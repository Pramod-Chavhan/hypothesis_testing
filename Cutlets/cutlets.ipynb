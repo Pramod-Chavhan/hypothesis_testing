{
 "cells": [
  {
   "cell_type": "markdown",
   "id": "f6223867",
   "metadata": {},
   "source": [
    "# Hypothesis Testing\n",
    "A systematic procedure is used by the researchers to predict whether the results obtained from a study supports a particular theory that is related to the population is known as hypothesis testing. It uses the sample data in order to evaluate the hypothesis of the population. It is the statistical inference method that is used to test the significance of the proposed hypothesized relation between the population statistics or the parameters and their corresponding estimators of the sample. This test consists of two hypotheses, the null hypothesis, and the alternative hypothesis."
   ]
  },
  {
   "cell_type": "code",
   "execution_count": 1,
   "id": "db3c31a0",
   "metadata": {},
   "outputs": [],
   "source": [
    "import pandas as pd\n",
    "import scipy \n",
    "from scipy import stats"
   ]
  },
  {
   "cell_type": "markdown",
   "id": "02e3f97a",
   "metadata": {},
   "source": [
    "##### 1.) A F&B manager wants to determine whether there is any significant difference in the diameter of the cutlet between two units. A randomly selected sample of cutlets was collected from both units and measured? Analyse the data and draw inferences at 5% significance level. Please state the assumptions and tests that you carried out to check validity of the assumptions.   File: Cutlets.csv"
   ]
  },
  {
   "cell_type": "markdown",
   "id": "d741449f",
   "metadata": {},
   "source": [
    "### 2 sample T Test\n",
    "#### when we want to compare between two data we used 2 sample t test as per given steps following\n",
    "##### here y = continuous (diameter of cutlet)\n",
    "##### x = discrete ( unit a , unit b)"
   ]
  },
  {
   "cell_type": "code",
   "execution_count": 7,
   "id": "c5f12516",
   "metadata": {},
   "outputs": [
    {
     "data": {
      "text/html": [
       "<div>\n",
       "<style scoped>\n",
       "    .dataframe tbody tr th:only-of-type {\n",
       "        vertical-align: middle;\n",
       "    }\n",
       "\n",
       "    .dataframe tbody tr th {\n",
       "        vertical-align: top;\n",
       "    }\n",
       "\n",
       "    .dataframe thead th {\n",
       "        text-align: right;\n",
       "    }\n",
       "</style>\n",
       "<table border=\"1\" class=\"dataframe\">\n",
       "  <thead>\n",
       "    <tr style=\"text-align: right;\">\n",
       "      <th></th>\n",
       "      <th>Unit A</th>\n",
       "      <th>Unit B</th>\n",
       "    </tr>\n",
       "  </thead>\n",
       "  <tbody>\n",
       "    <tr>\n",
       "      <th>0</th>\n",
       "      <td>6.8090</td>\n",
       "      <td>6.7703</td>\n",
       "    </tr>\n",
       "    <tr>\n",
       "      <th>1</th>\n",
       "      <td>6.4376</td>\n",
       "      <td>7.5093</td>\n",
       "    </tr>\n",
       "    <tr>\n",
       "      <th>2</th>\n",
       "      <td>6.9157</td>\n",
       "      <td>6.7300</td>\n",
       "    </tr>\n",
       "    <tr>\n",
       "      <th>3</th>\n",
       "      <td>7.3012</td>\n",
       "      <td>6.7878</td>\n",
       "    </tr>\n",
       "    <tr>\n",
       "      <th>4</th>\n",
       "      <td>7.4488</td>\n",
       "      <td>7.1522</td>\n",
       "    </tr>\n",
       "  </tbody>\n",
       "</table>\n",
       "</div>"
      ],
      "text/plain": [
       "   Unit A  Unit B\n",
       "0  6.8090  6.7703\n",
       "1  6.4376  7.5093\n",
       "2  6.9157  6.7300\n",
       "3  7.3012  6.7878\n",
       "4  7.4488  7.1522"
      ]
     },
     "execution_count": 7,
     "metadata": {},
     "output_type": "execute_result"
    }
   ],
   "source": [
    "#2 sample T Test \n",
    "########File: Cutlets.csv##########\n",
    "# Load the data\n",
    "Cutlets = pd.read_csv(\"C:\\\\Users\\\\Desktop\\\\Hypothesis testing\\\\Cutlets.csv\")\n",
    "Cutlets.head()"
   ]
  },
  {
   "cell_type": "code",
   "execution_count": 10,
   "id": "ca9e96e0",
   "metadata": {},
   "outputs": [],
   "source": [
    "Cutlets.columns = (\"unit_A\", \"unit_B\")"
   ]
  },
  {
   "cell_type": "markdown",
   "id": "1e630927",
   "metadata": {},
   "source": [
    "### Step frist to check the data is normal or not "
   ]
  },
  {
   "cell_type": "code",
   "execution_count": 13,
   "id": "49f199f9",
   "metadata": {},
   "outputs": [
    {
     "data": {
      "text/plain": [
       "ShapiroResult(statistic=0.9649458527565002, pvalue=0.3199819028377533)"
      ]
     },
     "execution_count": 13,
     "metadata": {},
     "output_type": "execute_result"
    }
   ],
   "source": [
    "# Normality Test\n",
    "stats.shapiro(Cutlets.unit_A) # Shapiro Test\n",
    "#pvalue=0.3199819028377533 so p > 0.05 - p High -> Fails to reject Ho"
   ]
  },
  {
   "cell_type": "code",
   "execution_count": 14,
   "id": "ec6dba3a",
   "metadata": {},
   "outputs": [
    {
     "data": {
      "text/plain": [
       "ShapiroResult(statistic=0.9727300405502319, pvalue=0.5224985480308533)"
      ]
     },
     "execution_count": 14,
     "metadata": {},
     "output_type": "execute_result"
    }
   ],
   "source": [
    "stats.shapiro(Cutlets.unit_B) # Shapiro Test\n",
    "#pvalue=0.5224985480308533 so p > 0.05 - p High -> Fails to reject Ho"
   ]
  },
  {
   "cell_type": "markdown",
   "id": "d6e76232",
   "metadata": {},
   "source": [
    "### External condition are same or not\n",
    "Dimensions of cutlets measured from two different Unit so External conditions are different So check with the variance test that Var(unit A) equal or not with Var( unit B)"
   ]
  },
  {
   "cell_type": "markdown",
   "id": "23d79b20",
   "metadata": {},
   "source": [
    "### Step two to check the varience between the two different units"
   ]
  },
  {
   "cell_type": "code",
   "execution_count": 15,
   "id": "c82edd4d",
   "metadata": {},
   "outputs": [
    {
     "data": {
      "text/plain": [
       "LeveneResult(statistic=0.665089763863238, pvalue=0.4176162212502553)"
      ]
     },
     "execution_count": 15,
     "metadata": {},
     "output_type": "execute_result"
    }
   ],
   "source": [
    "# Variance test\n",
    "scipy.stats.levene(Cutlets.unit_A,Cutlets.unit_B)\n",
    "#pvalue=0.4176162212502553 so p > 0.05 - p High -> Fails to reject Ho"
   ]
  },
  {
   "cell_type": "markdown",
   "id": "aa393fdd",
   "metadata": {},
   "source": [
    "### Step three for 2 sample t test "
   ]
  },
  {
   "cell_type": "code",
   "execution_count": 16,
   "id": "e6c41099",
   "metadata": {},
   "outputs": [
    {
     "data": {
      "text/plain": [
       "Ttest_indResult(statistic=0.7228688704678061, pvalue=0.47223947245995)"
      ]
     },
     "execution_count": 16,
     "metadata": {},
     "output_type": "execute_result"
    }
   ],
   "source": [
    "# 2 Sample T test\n",
    "scipy.stats.ttest_ind(Cutlets.unit_A,Cutlets.unit_B)\n",
    "#pvalue=0.47223947245995 so p > 0.05 - p High -> Fails to reject Ho"
   ]
  },
  {
   "cell_type": "markdown",
   "id": "bb52ca0a",
   "metadata": {},
   "source": [
    "##### 2.) A hospital wants to determine whether there is any difference in the average Turn Around Time (TAT) of reports of the laboratories on their preferred list. They collected a random sample and recorded TAT for reports of 4 laboratories. TAT is defined as sample collected to report dispatch. Analyze the data and determine whether there is any difference in average TAT among the different laboratories at 5% significance level. File: LabTAT.csv\n"
   ]
  },
  {
   "cell_type": "markdown",
   "id": "964200e9",
   "metadata": {},
   "source": [
    "### One-way Anova test\n",
    "##### this test is used when there Y is continuous and x is descrete\n",
    "##### here y = Turn around time\n",
    "##### x = 4 laboratories(lab1,lab2,lab3,lab4)"
   ]
  },
  {
   "cell_type": "code",
   "execution_count": 17,
   "id": "8f3ac72f",
   "metadata": {},
   "outputs": [
    {
     "data": {
      "text/html": [
       "<div>\n",
       "<style scoped>\n",
       "    .dataframe tbody tr th:only-of-type {\n",
       "        vertical-align: middle;\n",
       "    }\n",
       "\n",
       "    .dataframe tbody tr th {\n",
       "        vertical-align: top;\n",
       "    }\n",
       "\n",
       "    .dataframe thead th {\n",
       "        text-align: right;\n",
       "    }\n",
       "</style>\n",
       "<table border=\"1\" class=\"dataframe\">\n",
       "  <thead>\n",
       "    <tr style=\"text-align: right;\">\n",
       "      <th></th>\n",
       "      <th>Laboratory_1</th>\n",
       "      <th>Laboratory_2</th>\n",
       "      <th>Laboratory_3</th>\n",
       "      <th>Laboratory_4</th>\n",
       "    </tr>\n",
       "  </thead>\n",
       "  <tbody>\n",
       "    <tr>\n",
       "      <th>0</th>\n",
       "      <td>185.35</td>\n",
       "      <td>165.53</td>\n",
       "      <td>176.70</td>\n",
       "      <td>166.13</td>\n",
       "    </tr>\n",
       "    <tr>\n",
       "      <th>1</th>\n",
       "      <td>170.49</td>\n",
       "      <td>185.91</td>\n",
       "      <td>198.45</td>\n",
       "      <td>160.79</td>\n",
       "    </tr>\n",
       "    <tr>\n",
       "      <th>2</th>\n",
       "      <td>192.77</td>\n",
       "      <td>194.92</td>\n",
       "      <td>201.23</td>\n",
       "      <td>185.18</td>\n",
       "    </tr>\n",
       "    <tr>\n",
       "      <th>3</th>\n",
       "      <td>177.33</td>\n",
       "      <td>183.00</td>\n",
       "      <td>199.61</td>\n",
       "      <td>176.42</td>\n",
       "    </tr>\n",
       "    <tr>\n",
       "      <th>4</th>\n",
       "      <td>193.41</td>\n",
       "      <td>169.57</td>\n",
       "      <td>204.63</td>\n",
       "      <td>152.60</td>\n",
       "    </tr>\n",
       "  </tbody>\n",
       "</table>\n",
       "</div>"
      ],
      "text/plain": [
       "   Laboratory_1  Laboratory_2  Laboratory_3  Laboratory_4\n",
       "0        185.35        165.53        176.70        166.13\n",
       "1        170.49        185.91        198.45        160.79\n",
       "2        192.77        194.92        201.23        185.18\n",
       "3        177.33        183.00        199.61        176.42\n",
       "4        193.41        169.57        204.63        152.60"
      ]
     },
     "execution_count": 17,
     "metadata": {},
     "output_type": "execute_result"
    }
   ],
   "source": [
    "#importing dataset\n",
    "Labtat = pd.read_csv(\"C:\\\\Users\\\\Aishwarya\\\\Desktop\\\\360DigitTMg\\\\Hypothesis testing\\\\lab_tat_updated.csv\")\n",
    "Labtat.head()"
   ]
  },
  {
   "cell_type": "code",
   "execution_count": 18,
   "id": "69dd63c5",
   "metadata": {},
   "outputs": [],
   "source": [
    "Labtat.columns = (\"lab_1\", \"lab_2\",\"lab_3\",\"lab_4\")"
   ]
  },
  {
   "cell_type": "markdown",
   "id": "137eae38",
   "metadata": {},
   "source": [
    "### Step frist to check the data is normal or not "
   ]
  },
  {
   "cell_type": "code",
   "execution_count": 19,
   "id": "bd0a56f6",
   "metadata": {},
   "outputs": [
    {
     "data": {
      "text/plain": [
       "ShapiroResult(statistic=0.9886691570281982, pvalue=0.42317795753479004)"
      ]
     },
     "execution_count": 19,
     "metadata": {},
     "output_type": "execute_result"
    }
   ],
   "source": [
    "#Normality Test\n",
    "stats.shapiro(Labtat.lab_1)\n",
    "#p-value = 0.4232 means p > 0.05 so p High-> Fail to reject Ho"
   ]
  },
  {
   "cell_type": "code",
   "execution_count": 20,
   "id": "7c28db47",
   "metadata": {},
   "outputs": [
    {
     "data": {
      "text/plain": [
       "ShapiroResult(statistic=0.9936322569847107, pvalue=0.8637524843215942)"
      ]
     },
     "execution_count": 20,
     "metadata": {},
     "output_type": "execute_result"
    }
   ],
   "source": [
    "stats.shapiro(Labtat.lab_2)\n",
    "#p-value = 0.8637 means p > 0.05 so p High-> Fail to reject Ho"
   ]
  },
  {
   "cell_type": "code",
   "execution_count": 21,
   "id": "47a2244c",
   "metadata": {},
   "outputs": [
    {
     "data": {
      "text/plain": [
       "ShapiroResult(statistic=0.9796067476272583, pvalue=0.06547004729509354)"
      ]
     },
     "execution_count": 21,
     "metadata": {},
     "output_type": "execute_result"
    }
   ],
   "source": [
    "stats.shapiro(Labtat.lab_3)\n",
    "#p-value = 0.06547 means p > 0.05 so p High-> Fail to reject Ho"
   ]
  },
  {
   "cell_type": "code",
   "execution_count": 22,
   "id": "11cc1b26",
   "metadata": {},
   "outputs": [
    {
     "data": {
      "text/plain": [
       "ShapiroResult(statistic=0.9913753271102905, pvalue=0.6618951559066772)"
      ]
     },
     "execution_count": 22,
     "metadata": {},
     "output_type": "execute_result"
    }
   ],
   "source": [
    "stats.shapiro(Labtat.lab_4)\n",
    "#p-value = 0.6619 means p > 0.05 so p High-> Fail to reject Ho"
   ]
  },
  {
   "cell_type": "markdown",
   "id": "0fec0ad7",
   "metadata": {},
   "source": [
    "### Step two to check the varience between laboratories"
   ]
  },
  {
   "cell_type": "code",
   "execution_count": 23,
   "id": "6806ffc0",
   "metadata": {},
   "outputs": [
    {
     "data": {
      "text/plain": [
       "LeveneResult(statistic=1.025294593220823, pvalue=0.38107781677304564)"
      ]
     },
     "execution_count": 23,
     "metadata": {},
     "output_type": "execute_result"
    }
   ],
   "source": [
    "#Varience Test\n",
    "scipy.stats.levene(Labtat.lab_1, Labtat.lab_2,Labtat.lab_3,Labtat.lab_4)\n",
    "#pvalue=0.38107 means p > 0.05 so p High-> Fail to reject Ho"
   ]
  },
  {
   "cell_type": "markdown",
   "id": "50114808",
   "metadata": {},
   "source": [
    "### Step three for one-way anova test"
   ]
  },
  {
   "cell_type": "code",
   "execution_count": 24,
   "id": "637ee61b",
   "metadata": {},
   "outputs": [
    {
     "data": {
      "text/plain": [
       "2.143740909435053e-58"
      ]
     },
     "execution_count": 24,
     "metadata": {},
     "output_type": "execute_result"
    }
   ],
   "source": [
    "#One way Anova test\n",
    "F,P = stats.f_oneway(Labtat.lab_1, Labtat.lab_2, Labtat.lab_3, Labtat.lab_4)\n",
    "P\n",
    "# p-value = 2.143740909435053e-58 < 0.05 reject null hypothesis\n",
    "# TAT reports of laboratories are different"
   ]
  },
  {
   "cell_type": "markdown",
   "id": "ef77fad4",
   "metadata": {},
   "source": [
    "##### 3) Sales of products in four different regions is tabulated for males and females. Find if male-female buyer rations are similar across regions. East West North South\n",
    "##### Males \t50 \t142 \t131 \t70 \n",
    "##### Females \t550 \t351 \t480 \t350"
   ]
  },
  {
   "cell_type": "markdown",
   "id": "2c4ca934",
   "metadata": {},
   "source": [
    "### Chi-squared test\n",
    "##### This test used when there y is discrete and x is discrete\n",
    "##### here y = (male and female)\n",
    "##### x = (East, West, North, South) - Regoin"
   ]
  },
  {
   "cell_type": "code",
   "execution_count": 25,
   "id": "4db4b0ba",
   "metadata": {},
   "outputs": [
    {
     "data": {
      "text/html": [
       "<div>\n",
       "<style scoped>\n",
       "    .dataframe tbody tr th:only-of-type {\n",
       "        vertical-align: middle;\n",
       "    }\n",
       "\n",
       "    .dataframe tbody tr th {\n",
       "        vertical-align: top;\n",
       "    }\n",
       "\n",
       "    .dataframe thead th {\n",
       "        text-align: right;\n",
       "    }\n",
       "</style>\n",
       "<table border=\"1\" class=\"dataframe\">\n",
       "  <thead>\n",
       "    <tr style=\"text-align: right;\">\n",
       "      <th></th>\n",
       "      <th>Observed Values</th>\n",
       "      <th>East</th>\n",
       "      <th>West</th>\n",
       "      <th>North</th>\n",
       "      <th>South</th>\n",
       "    </tr>\n",
       "  </thead>\n",
       "  <tbody>\n",
       "    <tr>\n",
       "      <th>0</th>\n",
       "      <td>Males</td>\n",
       "      <td>50</td>\n",
       "      <td>142</td>\n",
       "      <td>131</td>\n",
       "      <td>70</td>\n",
       "    </tr>\n",
       "    <tr>\n",
       "      <th>1</th>\n",
       "      <td>Females</td>\n",
       "      <td>435</td>\n",
       "      <td>1523</td>\n",
       "      <td>1356</td>\n",
       "      <td>750</td>\n",
       "    </tr>\n",
       "  </tbody>\n",
       "</table>\n",
       "</div>"
      ],
      "text/plain": [
       "  Observed Values  East  West  North  South\n",
       "0           Males    50   142    131     70\n",
       "1         Females   435  1523   1356    750"
      ]
     },
     "execution_count": 25,
     "metadata": {},
     "output_type": "execute_result"
    }
   ],
   "source": [
    "Buyer = pd.read_csv(\"C:\\\\Users\\\\Aishwarya\\\\Desktop\\\\360DigitTMg\\\\Hypothesis testing\\\\BuyerRatio.csv\")\n",
    "Buyer.head()"
   ]
  },
  {
   "cell_type": "code",
   "execution_count": 26,
   "id": "1c24d1e3",
   "metadata": {},
   "outputs": [
    {
     "data": {
      "text/plain": [
       "Index(['Gender', 'East', 'West', 'North', 'South'], dtype='object')"
      ]
     },
     "execution_count": 26,
     "metadata": {},
     "output_type": "execute_result"
    }
   ],
   "source": [
    "#Rename of Column name\n",
    "Buyer.rename(columns={\"Observed Values\":\"Gender\"}, inplace=True)\n",
    "Buyer.columns"
   ]
  },
  {
   "cell_type": "code",
   "execution_count": 27,
   "id": "04de1447",
   "metadata": {},
   "outputs": [
    {
     "data": {
      "text/html": [
       "<div>\n",
       "<style scoped>\n",
       "    .dataframe tbody tr th:only-of-type {\n",
       "        vertical-align: middle;\n",
       "    }\n",
       "\n",
       "    .dataframe tbody tr th {\n",
       "        vertical-align: top;\n",
       "    }\n",
       "\n",
       "    .dataframe thead th {\n",
       "        text-align: right;\n",
       "    }\n",
       "</style>\n",
       "<table border=\"1\" class=\"dataframe\">\n",
       "  <thead>\n",
       "    <tr style=\"text-align: right;\">\n",
       "      <th></th>\n",
       "      <th>Gender</th>\n",
       "      <th>East</th>\n",
       "      <th>West</th>\n",
       "      <th>North</th>\n",
       "      <th>South</th>\n",
       "    </tr>\n",
       "  </thead>\n",
       "  <tbody>\n",
       "    <tr>\n",
       "      <th>0</th>\n",
       "      <td>0</td>\n",
       "      <td>50</td>\n",
       "      <td>142</td>\n",
       "      <td>131</td>\n",
       "      <td>70</td>\n",
       "    </tr>\n",
       "    <tr>\n",
       "      <th>1</th>\n",
       "      <td>1</td>\n",
       "      <td>435</td>\n",
       "      <td>1523</td>\n",
       "      <td>1356</td>\n",
       "      <td>750</td>\n",
       "    </tr>\n",
       "  </tbody>\n",
       "</table>\n",
       "</div>"
      ],
      "text/plain": [
       "   Gender  East  West  North  South\n",
       "0       0    50   142    131     70\n",
       "1       1   435  1523   1356    750"
      ]
     },
     "execution_count": 27,
     "metadata": {},
     "output_type": "execute_result"
    }
   ],
   "source": [
    "#replacing the gender with 0 and 1\n",
    "Buyer[\"Gender\"].replace(\"Males\", 0 , inplace = True)\n",
    "Buyer[\"Gender\"].replace(\"Females\", 1 , inplace = True)\n",
    "Buyer"
   ]
  },
  {
   "cell_type": "code",
   "execution_count": 28,
   "id": "dbfe4279",
   "metadata": {},
   "outputs": [
    {
     "data": {
      "text/plain": [
       "(1.6929696469183673,\n",
       " 0.7919942975413565,\n",
       " 4,\n",
       " array([[8.81561238e-02, 4.27557201e+01, 1.46779946e+02, 1.31088156e+02,\n",
       "         7.22880215e+01],\n",
       "        [9.11843876e-01, 4.42244280e+02, 1.51822005e+03, 1.35591184e+03,\n",
       "         7.47711978e+02]]))"
      ]
     },
     "execution_count": 28,
     "metadata": {},
     "output_type": "execute_result"
    }
   ],
   "source": [
    "Chisquare_results = scipy.stats.chi2_contingency(Buyer)\n",
    "Chisquare_results "
   ]
  },
  {
   "cell_type": "code",
   "execution_count": 30,
   "id": "dac151ed",
   "metadata": {},
   "outputs": [
    {
     "data": {
      "text/plain": [
       "[['Test statistics', 'p-value'], [1.6929696469183673, 0.7919942975413565]]"
      ]
     },
     "execution_count": 30,
     "metadata": {},
     "output_type": "execute_result"
    }
   ],
   "source": [
    "Chi_square = [[\"Test statistics\", \"p-value\"],[Chisquare_results[0],Chisquare_results[1]]]\n",
    "Chi_square\n",
    "#AS p = 0.7919942975413565 p > 0.05 so Fails to reject null hypothesis"
   ]
  },
  {
   "cell_type": "code",
   "execution_count": null,
   "id": "33ebeb46",
   "metadata": {},
   "outputs": [],
   "source": []
  }
 ],
 "metadata": {
  "kernelspec": {
   "display_name": "Python 3 (ipykernel)",
   "language": "python",
   "name": "python3"
  },
  "language_info": {
   "codemirror_mode": {
    "name": "ipython",
    "version": 3
   },
   "file_extension": ".py",
   "mimetype": "text/x-python",
   "name": "python",
   "nbconvert_exporter": "python",
   "pygments_lexer": "ipython3",
   "version": "3.10.9"
  }
 },
 "nbformat": 4,
 "nbformat_minor": 5
}
